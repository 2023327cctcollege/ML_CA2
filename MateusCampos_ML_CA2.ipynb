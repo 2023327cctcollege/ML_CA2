{
 "cells": [
  {
   "cell_type": "markdown",
   "id": "848e992b",
   "metadata": {},
   "source": [
    "## ML_CA2\n",
    "\n",
    "**CCT College Dublin**  \n",
    "**Bachelor of Science Honours in Computing in Information Technology**  \n",
    "**Machine Learning for Artificial Intelligence - Y4M6**  \n",
    "**Year 4, Semester 8**  \n",
    "**Continuous Assessment 2**\n",
    "\n",
    "**Lecturer name:** David McQuaid  \n",
    "**Lecturer email:** dmcquaid@cct.ie\n",
    "\n",
    "**Student Name:** Mateus Fonseca Campos  \n",
    "**Student Number:** 2023327  \n",
    "**Student Email:** 2023327@student.cct.ie\n",
    "\n",
    "**Submission date:** 31 May 2024\n",
    "\n",
    "**GitHub:** https://github.com/2023327cctcollege/ML_CA2\n",
    "___\n",
    "\n",
    "### Contents\n",
    "\n",
    "- [**Neural Networks**](#Neural-Networks)\n",
    "- [**Semantic Analysis**](#Semantic-Analysis)\n",
    "- [**References**](#References)\n",
    "\n",
    "### Neural Networks\n",
    "\n",
    "*TO-DO*"
   ]
  },
  {
   "cell_type": "markdown",
   "id": "04095546",
   "metadata": {},
   "source": [
    "### Semantic Analysis\n",
    "\n",
    "*TO-DO*"
   ]
  },
  {
   "cell_type": "markdown",
   "id": "fb8c6a57",
   "metadata": {},
   "source": [
    "### References\n",
    "\n",
    "Lastname, Initials. (Year). *Title*. Publisher. Available at: url (Accessed: DD Month YYYY)."
   ]
  }
 ],
 "metadata": {
  "kernelspec": {
   "display_name": "Python 3 (ipykernel)",
   "language": "python",
   "name": "python3"
  },
  "language_info": {
   "codemirror_mode": {
    "name": "ipython",
    "version": 3
   },
   "file_extension": ".py",
   "mimetype": "text/x-python",
   "name": "python",
   "nbconvert_exporter": "python",
   "pygments_lexer": "ipython3",
   "version": "3.11.4"
  }
 },
 "nbformat": 4,
 "nbformat_minor": 5
}
